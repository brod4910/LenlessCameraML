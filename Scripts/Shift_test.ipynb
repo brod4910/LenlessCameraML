{
 "cells": [
  {
   "cell_type": "code",
   "execution_count": 1,
   "metadata": {},
   "outputs": [],
   "source": [
    "import cv2\n",
    "import numpy as np\n",
    "from PIL import Image"
   ]
  },
  {
   "cell_type": "code",
   "execution_count": 16,
   "metadata": {},
   "outputs": [],
   "source": [
    "class Shift(object):\n",
    "    def __init__(self, shift):\n",
    "        self.shift = shift\n",
    "\n",
    "    def __call__(self, img):\n",
    "        im = np.array(img, dtype= np.float)\n",
    "        rows, cols, chan = im.shape\n",
    "        shifted_img = cv2.warpAffine(im, self.shift, (cols, rows))\n",
    "        shifted_img = shifted_img.reshape((cols, rows, chan))\n",
    "\n",
    "        return shifted_img"
   ]
  },
  {
   "cell_type": "code",
   "execution_count": 40,
   "metadata": {},
   "outputs": [],
   "source": [
    "class MaxNormalization(object):\n",
    "    def __init__(self, max_val):\n",
    "        self.max = max_val\n",
    "\n",
    "    def __call__(self, img):\n",
    "        norm_img = np.array(img, dtype= np.float) * self.max\n",
    "        rows, cols = norm_img.shape\n",
    "        norm_img = norm_img.reshape((cols, rows, 1))\n",
    "\n",
    "        print(norm_img.shape)\n",
    "\n",
    "        return norm_img\n",
    "    \n",
    "class BiasNoise(object):\n",
    "    def __init__(self, bias_noise):\n",
    "        self.bias_noise = bias_noise\n",
    "\n",
    "    def __call__(self, img):\n",
    "        noisy_img = np.array(img, dtype= np.float) + self.bias_noise\n",
    "        rows, cols, chan = noisy_img.shape\n",
    "        noisy_img = noisy_img.reshape((cols, rows, chan))\n",
    "        noisy_img_clipped = np.clip(noisy_img, 0, 255)  # we might get out of bounds due to noise\n",
    "\n",
    "        return noisy_img_clipped\n",
    "\n",
    "'''\n",
    "Adds Gaussian Noise to the image with mean and std.\n",
    "The bias is added when the object is called\n",
    "'''\n",
    "class GaussianNoise(object):\n",
    "    def __init__(self, std, mean=0):\n",
    "        self.mean = mean\n",
    "        self.std = std\n",
    "\n",
    "    def __call__(self, img):\n",
    "        noisy_img = np.array(img, dtype= np.float)\n",
    "        rows, cols, chan = noisy_img.shape\n",
    "        noisy_img = noisy_img + np.random.normal(self.mean, self.std, noisy_img.shape)\n",
    "        noisy_img = noisy_img.reshape((cols, rows, chan))\n",
    "        noisy_img_clipped = np.clip(noisy_img, 0, 255)  # we might get out of bounds due to noise\n",
    "\n",
    "        return noisy_img_clipped"
   ]
  },
  {
   "cell_type": "code",
   "execution_count": 41,
   "metadata": {},
   "outputs": [],
   "source": [
    "shift = -150\n",
    "translate = Shift(np.float32([[1, 0, shift], [0, 1, 0]]))\n",
    "g = GaussianNoise(5)\n",
    "b = BiasNoise(10)\n",
    "maxnorm = MaxNormalization(0.0038910505836575876)"
   ]
  },
  {
   "cell_type": "code",
   "execution_count": 42,
   "metadata": {},
   "outputs": [],
   "source": [
    "img = './5400.png'\n",
    "image = Image.open(img)\n"
   ]
  },
  {
   "cell_type": "code",
   "execution_count": null,
   "metadata": {},
   "outputs": [],
   "source": []
  },
  {
   "cell_type": "code",
   "execution_count": null,
   "metadata": {},
   "outputs": [],
   "source": []
  },
  {
   "cell_type": "code",
   "execution_count": 43,
   "metadata": {},
   "outputs": [
    {
     "name": "stdout",
     "output_type": "stream",
     "text": [
      "(640, 480, 1)\n",
      "[[[138.15953307]\n",
      "  [138.19844358]\n",
      "  [124.38910506]\n",
      "  ...\n",
      "  [130.85214008]\n",
      "  [101.6848249 ]\n",
      "  [139.24513619]]\n",
      "\n",
      " [[139.61867704]\n",
      "  [137.61478599]\n",
      "  [123.90272374]\n",
      "  ...\n",
      "  [130.47081712]\n",
      "  [134.0233463 ]\n",
      "  [170.62256809]]\n",
      "\n",
      " [[154.11673152]\n",
      "  [142.9688716 ]\n",
      "  [145.38910506]\n",
      "  ...\n",
      "  [  0.        ]\n",
      "  [  0.        ]\n",
      "  [  0.        ]]\n",
      "\n",
      " ...\n",
      "\n",
      " [[171.04280156]\n",
      "  [150.42412451]\n",
      "  [130.23735409]\n",
      "  ...\n",
      "  [173.76653696]\n",
      "  [144.83268482]\n",
      "  [164.09727626]]\n",
      "\n",
      " [[151.85603113]\n",
      "  [127.0311284 ]\n",
      "  [128.692607  ]\n",
      "  ...\n",
      "  [153.44747082]\n",
      "  [112.17120623]\n",
      "  [146.46692607]]\n",
      "\n",
      " [[138.70817121]\n",
      "  [135.96108949]\n",
      "  [140.72373541]\n",
      "  ...\n",
      "  [  0.        ]\n",
      "  [  0.        ]\n",
      "  [  0.        ]]]\n"
     ]
    }
   ],
   "source": [
    "im = maxnorm(image)\n",
    "im = translate(im)\n",
    "print(im)"
   ]
  },
  {
   "cell_type": "code",
   "execution_count": 45,
   "metadata": {},
   "outputs": [
    {
     "name": "stdout",
     "output_type": "stream",
     "text": [
      "(640, 480, 1)\n"
     ]
    },
    {
     "data": {
      "text/plain": [
       "array([[[157.46663218],\n",
       "        [155.94276928],\n",
       "        [166.74501532],\n",
       "        ...,\n",
       "        [164.27545381],\n",
       "        [161.83294662],\n",
       "        [168.21036099]],\n",
       "\n",
       "       [[160.14672928],\n",
       "        [160.49620672],\n",
       "        [166.23569918],\n",
       "        ...,\n",
       "        [155.32412835],\n",
       "        [154.5912619 ],\n",
       "        [155.56210249]],\n",
       "\n",
       "       [[158.09564969],\n",
       "        [170.0389225 ],\n",
       "        [155.39384351],\n",
       "        ...,\n",
       "        [155.51934933],\n",
       "        [160.08434042],\n",
       "        [157.80905928]],\n",
       "\n",
       "       ...,\n",
       "\n",
       "       [[180.57838255],\n",
       "        [176.05996407],\n",
       "        [172.94351006],\n",
       "        ...,\n",
       "        [173.09817473],\n",
       "        [167.67972936],\n",
       "        [162.89573038]],\n",
       "\n",
       "       [[159.19704296],\n",
       "        [157.19666792],\n",
       "        [154.50124539],\n",
       "        ...,\n",
       "        [164.57075733],\n",
       "        [163.46306706],\n",
       "        [167.74300361]],\n",
       "\n",
       "       [[155.82224296],\n",
       "        [154.33035997],\n",
       "        [147.00668032],\n",
       "        ...,\n",
       "        [162.34236478],\n",
       "        [169.92794827],\n",
       "        [166.06341945]]])"
      ]
     },
     "execution_count": 45,
     "metadata": {},
     "output_type": "execute_result"
    }
   ],
   "source": [
    "img = './5400.png'\n",
    "image = Image.open(img)\n",
    "im = maxnorm(image)\n",
    "g(im)"
   ]
  },
  {
   "cell_type": "code",
   "execution_count": 47,
   "metadata": {},
   "outputs": [
    {
     "name": "stdout",
     "output_type": "stream",
     "text": [
      "(640, 480, 1)\n"
     ]
    },
    {
     "data": {
      "text/plain": [
       "array([[[167.43579767],\n",
       "        [167.43579767],\n",
       "        [167.43579767],\n",
       "        ...,\n",
       "        [175.17898833],\n",
       "        [175.17898833],\n",
       "        [175.17898833]],\n",
       "\n",
       "       [[172.35797665],\n",
       "        [172.35797665],\n",
       "        [172.35797665],\n",
       "        ...,\n",
       "        [164.66536965],\n",
       "        [164.66536965],\n",
       "        [164.66536965]],\n",
       "\n",
       "       [[168.65758755],\n",
       "        [168.65758755],\n",
       "        [168.65758755],\n",
       "        ...,\n",
       "        [168.84046693],\n",
       "        [168.84046693],\n",
       "        [168.84046693]],\n",
       "\n",
       "       ...,\n",
       "\n",
       "       [[179.9688716 ],\n",
       "        [179.9688716 ],\n",
       "        [179.9688716 ],\n",
       "        ...,\n",
       "        [177.22957198],\n",
       "        [177.22957198],\n",
       "        [177.22957198]],\n",
       "\n",
       "       [[165.0155642 ],\n",
       "        [165.0155642 ],\n",
       "        [165.0155642 ],\n",
       "        ...,\n",
       "        [176.82101167],\n",
       "        [176.82101167],\n",
       "        [176.82101167]],\n",
       "\n",
       "       [[161.28404669],\n",
       "        [161.28404669],\n",
       "        [161.28404669],\n",
       "        ...,\n",
       "        [172.03501946],\n",
       "        [172.03501946],\n",
       "        [172.03501946]]])"
      ]
     },
     "execution_count": 47,
     "metadata": {},
     "output_type": "execute_result"
    }
   ],
   "source": [
    "img = './5400.png'\n",
    "image = Image.open(img)\n",
    "im = maxnorm(image)\n",
    "b(im)"
   ]
  },
  {
   "cell_type": "code",
   "execution_count": 90,
   "metadata": {},
   "outputs": [],
   "source": []
  },
  {
   "cell_type": "code",
   "execution_count": null,
   "metadata": {},
   "outputs": [],
   "source": []
  }
 ],
 "metadata": {
  "kernelspec": {
   "display_name": "Python 3",
   "language": "python",
   "name": "python3"
  },
  "language_info": {
   "codemirror_mode": {
    "name": "ipython",
    "version": 3
   },
   "file_extension": ".py",
   "mimetype": "text/x-python",
   "name": "python",
   "nbconvert_exporter": "python",
   "pygments_lexer": "ipython3",
   "version": "3.6.4"
  }
 },
 "nbformat": 4,
 "nbformat_minor": 2
}
