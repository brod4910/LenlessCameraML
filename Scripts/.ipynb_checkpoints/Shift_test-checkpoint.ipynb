{
 "cells": [
  {
   "cell_type": "code",
   "execution_count": 33,
   "metadata": {},
   "outputs": [],
   "source": [
    "import cv2\n",
    "import numpy as np\n",
    "from PIL import Image"
   ]
  },
  {
   "cell_type": "code",
   "execution_count": 82,
   "metadata": {},
   "outputs": [],
   "source": [
    "class Shift(object):\n",
    "    def __init__(self, shift):\n",
    "        self.shift = shift\n",
    "\n",
    "    def __call__(self, img):\n",
    "        im = np.array(img, dtype= np.float)\n",
    "        rows, cols = im.shape\n",
    "        shifted_img = cv2.warpAffine(im, self.shift, (cols, rows))\n",
    "\n",
    "        return shifted_img"
   ]
  },
  {
   "cell_type": "code",
   "execution_count": 83,
   "metadata": {},
   "outputs": [],
   "source": [
    "shift = -150\n",
    "translate = Shift(np.float32([[1, 0, shift], [0, 1, 0]]))"
   ]
  },
  {
   "cell_type": "code",
   "execution_count": 84,
   "metadata": {},
   "outputs": [],
   "source": [
    "img = './3200.png'\n",
    "image = Image.open(img)\n"
   ]
  },
  {
   "cell_type": "code",
   "execution_count": 85,
   "metadata": {},
   "outputs": [],
   "source": [
    "image = np.array(image, dtype=np.float)"
   ]
  },
  {
   "cell_type": "code",
   "execution_count": 86,
   "metadata": {},
   "outputs": [],
   "source": [
    "im = Image.fromarray(image)"
   ]
  },
  {
   "cell_type": "code",
   "execution_count": 87,
   "metadata": {},
   "outputs": [
    {
     "name": "stdout",
     "output_type": "stream",
     "text": [
      "[[126.96498054 138.26848249 125.33463035 ...   0.           0.\n",
      "    0.        ]\n",
      " [122.05058366 137.05836576 135.98054475 ...   0.           0.\n",
      "    0.        ]\n",
      " [148.48249027 140.10116732 138.59922179 ...   0.           0.\n",
      "    0.        ]\n",
      " ...\n",
      " [169.22178988 146.68871595 140.85603113 ...   0.           0.\n",
      "    0.        ]\n",
      " [144.79377432 136.14396887 134.80155642 ...   0.           0.\n",
      "    0.        ]\n",
      " [126.70428016 132.6770428  129.38132296 ...   0.           0.\n",
      "    0.        ]]\n"
     ]
    }
   ],
   "source": [
    "im = translate(im)\n",
    "print(im)"
   ]
  },
  {
   "cell_type": "code",
   "execution_count": 88,
   "metadata": {},
   "outputs": [],
   "source": [
    "im = Image.fromarray(im)\n",
    "im.show()"
   ]
  },
  {
   "cell_type": "code",
   "execution_count": 90,
   "metadata": {},
   "outputs": [],
   "source": []
  },
  {
   "cell_type": "code",
   "execution_count": null,
   "metadata": {},
   "outputs": [],
   "source": []
  }
 ],
 "metadata": {
  "kernelspec": {
   "display_name": "Python 3",
   "language": "python",
   "name": "python3"
  },
  "language_info": {
   "codemirror_mode": {
    "name": "ipython",
    "version": 3
   },
   "file_extension": ".py",
   "mimetype": "text/x-python",
   "name": "python",
   "nbconvert_exporter": "python",
   "pygments_lexer": "ipython3",
   "version": "3.6.4"
  }
 },
 "nbformat": 4,
 "nbformat_minor": 2
}
