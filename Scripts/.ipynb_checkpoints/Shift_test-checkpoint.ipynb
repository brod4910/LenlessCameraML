{
 "cells": [
  {
   "cell_type": "code",
   "execution_count": 1,
   "metadata": {},
   "outputs": [],
   "source": [
    "import cv2\n",
    "import numpy as np\n",
    "from PIL import Image"
   ]
  },
  {
   "cell_type": "code",
   "execution_count": 16,
   "metadata": {},
   "outputs": [],
   "source": [
    "class Shift(object):\n",
    "    def __init__(self, shift):\n",
    "        self.shift = shift\n",
    "\n",
    "    def __call__(self, img):\n",
    "        im = np.array(img, dtype= np.float)\n",
    "        rows, cols, chan = im.shape\n",
    "        shifted_img = cv2.warpAffine(im, self.shift, (cols, rows))\n",
    "        shifted_img = shifted_img.reshape((cols, rows, chan))\n",
    "\n",
    "        return shifted_img"
   ]
  },
  {
   "cell_type": "code",
   "execution_count": 24,
   "metadata": {},
   "outputs": [],
   "source": [
    "class MaxNormalization(object):\n",
    "    def __init__(self, max_val):\n",
    "        self.max = max_val\n",
    "\n",
    "    def __call__(self, img):\n",
    "        norm_img = np.array(img, dtype= np.float) * self.max\n",
    "        rows, cols = norm_img.shape\n",
    "        norm_img = norm_img.reshape((cols, rows, 1))\n",
    "\n",
    "        print(norm_img.shape)\n",
    "\n",
    "        return norm_img\n",
    "    \n",
    "class BiasNoise(object):\n",
    "    def __init__(self, bias_noise):\n",
    "        self.bias_noise = bias_noise\n",
    "\n",
    "    def __call__(self, img):\n",
    "        noisy_img = np.array(img, dtype= np.float) + self.bias_noise\n",
    "        rows, cols, chan = noisy_img.shape\n",
    "        noisy_img = noisy_img.reshape((cols, rows, chan))\n",
    "        noisy_img_clipped = np.clip(noisy_img, 0, 255)  # we might get out of bounds due to noise\n",
    "\n",
    "        return noisy_img\n",
    "\n",
    "'''\n",
    "Adds Gaussian Noise to the image with mean and std.\n",
    "The bias is added when the object is called\n",
    "'''\n",
    "class GaussianNoise(object):\n",
    "    def __init__(self, std, mean=0):\n",
    "        self.mean = mean\n",
    "        self.std = std\n",
    "\n",
    "    def __call__(self, img):\n",
    "        noisy_img = np.array(img, dtype= np.float)\n",
    "        rows, cols, chan = noisy_img.shape\n",
    "        noisy_img = noisy_img + np.random.normal(self.mean, self.std, noisy_img.shape)\n",
    "        noisy_img = noisy_img.reshape((cols, rows, chan))\n",
    "        noisy_img_clipped = np.clip(noisy_img, 0, 255)  # we might get out of bounds due to noise\n",
    "\n",
    "        return noisy_img"
   ]
  },
  {
   "cell_type": "code",
   "execution_count": 25,
   "metadata": {},
   "outputs": [],
   "source": [
    "shift = -150\n",
    "translate = Shift(np.float32([[1, 0, shift], [0, 1, 0]]))\n",
    "g = GaussianNoise(5)\n",
    "b = BiasNoise(10)\n",
    "maxnorm = MaxNormalization(0.0038910505836575876)"
   ]
  },
  {
   "cell_type": "code",
   "execution_count": 26,
   "metadata": {},
   "outputs": [],
   "source": [
    "img = './5400.png'\n",
    "image = Image.open(img)\n"
   ]
  },
  {
   "cell_type": "code",
   "execution_count": null,
   "metadata": {},
   "outputs": [],
   "source": []
  },
  {
   "cell_type": "code",
   "execution_count": null,
   "metadata": {},
   "outputs": [],
   "source": []
  },
  {
   "cell_type": "code",
   "execution_count": 27,
   "metadata": {},
   "outputs": [
    {
     "name": "stdout",
     "output_type": "stream",
     "text": [
      "(640, 480, 1)\n",
      "[[[138.15953307]\n",
      "  [138.19844358]\n",
      "  [124.38910506]\n",
      "  ...\n",
      "  [130.85214008]\n",
      "  [101.6848249 ]\n",
      "  [139.24513619]]\n",
      "\n",
      " [[139.61867704]\n",
      "  [137.61478599]\n",
      "  [123.90272374]\n",
      "  ...\n",
      "  [130.47081712]\n",
      "  [134.0233463 ]\n",
      "  [170.62256809]]\n",
      "\n",
      " [[154.11673152]\n",
      "  [142.9688716 ]\n",
      "  [145.38910506]\n",
      "  ...\n",
      "  [  0.        ]\n",
      "  [  0.        ]\n",
      "  [  0.        ]]\n",
      "\n",
      " ...\n",
      "\n",
      " [[171.04280156]\n",
      "  [150.42412451]\n",
      "  [130.23735409]\n",
      "  ...\n",
      "  [173.76653696]\n",
      "  [144.83268482]\n",
      "  [164.09727626]]\n",
      "\n",
      " [[151.85603113]\n",
      "  [127.0311284 ]\n",
      "  [128.692607  ]\n",
      "  ...\n",
      "  [153.44747082]\n",
      "  [112.17120623]\n",
      "  [146.46692607]]\n",
      "\n",
      " [[138.70817121]\n",
      "  [135.96108949]\n",
      "  [140.72373541]\n",
      "  ...\n",
      "  [  0.        ]\n",
      "  [  0.        ]\n",
      "  [  0.        ]]]\n"
     ]
    }
   ],
   "source": [
    "im = maxnorm(image)\n",
    "im = translate(im)\n",
    "print(im)"
   ]
  },
  {
   "cell_type": "code",
   "execution_count": 28,
   "metadata": {},
   "outputs": [
    {
     "name": "stdout",
     "output_type": "stream",
     "text": [
      "(640, 480, 1)\n"
     ]
    },
    {
     "data": {
      "text/plain": [
       "array([[[160.78759774],\n",
       "        [151.12271939],\n",
       "        [159.11898943],\n",
       "        ...,\n",
       "        [168.66001821],\n",
       "        [164.24421637],\n",
       "        [165.72674038]],\n",
       "\n",
       "       [[163.7761091 ],\n",
       "        [162.22716198],\n",
       "        [160.36274947],\n",
       "        ...,\n",
       "        [148.36704752],\n",
       "        [146.76505138],\n",
       "        [149.30280529]],\n",
       "\n",
       "       [[157.55426648],\n",
       "        [162.12695731],\n",
       "        [162.00597594],\n",
       "        ...,\n",
       "        [155.63445767],\n",
       "        [155.64863649],\n",
       "        [167.78154325]],\n",
       "\n",
       "       ...,\n",
       "\n",
       "       [[172.97230126],\n",
       "        [171.85035607],\n",
       "        [180.35725665],\n",
       "        ...,\n",
       "        [166.92963979],\n",
       "        [170.98393369],\n",
       "        [170.01717471]],\n",
       "\n",
       "       [[154.5602138 ],\n",
       "        [157.28826416],\n",
       "        [162.53750444],\n",
       "        ...,\n",
       "        [167.74373776],\n",
       "        [167.02742845],\n",
       "        [176.14704901]],\n",
       "\n",
       "       [[146.76142532],\n",
       "        [154.22055708],\n",
       "        [150.08637888],\n",
       "        ...,\n",
       "        [162.85102497],\n",
       "        [172.3140309 ],\n",
       "        [169.53844713]]])"
      ]
     },
     "execution_count": 28,
     "metadata": {},
     "output_type": "execute_result"
    }
   ],
   "source": [
    "im = maxnorm(image)\n",
    "g(im)"
   ]
  },
  {
   "cell_type": "code",
   "execution_count": 29,
   "metadata": {},
   "outputs": [
    {
     "name": "stdout",
     "output_type": "stream",
     "text": [
      "(640, 480, 1)\n"
     ]
    },
    {
     "ename": "UnboundLocalError",
     "evalue": "local variable 'noisy_img' referenced before assignment",
     "output_type": "error",
     "traceback": [
      "\u001b[0;31m---------------------------------------------------------------------------\u001b[0m",
      "\u001b[0;31mUnboundLocalError\u001b[0m                         Traceback (most recent call last)",
      "\u001b[0;32m<ipython-input-29-86879af5a2fb>\u001b[0m in \u001b[0;36m<module>\u001b[0;34m()\u001b[0m\n\u001b[1;32m      1\u001b[0m \u001b[0mim\u001b[0m \u001b[0;34m=\u001b[0m \u001b[0mmaxnorm\u001b[0m\u001b[0;34m(\u001b[0m\u001b[0mimage\u001b[0m\u001b[0;34m)\u001b[0m\u001b[0;34m\u001b[0m\u001b[0m\n\u001b[0;32m----> 2\u001b[0;31m \u001b[0mb\u001b[0m\u001b[0;34m(\u001b[0m\u001b[0mim\u001b[0m\u001b[0;34m)\u001b[0m\u001b[0;34m\u001b[0m\u001b[0m\n\u001b[0m",
      "\u001b[0;32m<ipython-input-24-bd57dea7c450>\u001b[0m in \u001b[0;36m__call__\u001b[0;34m(self, img)\u001b[0m\n\u001b[1;32m     17\u001b[0m \u001b[0;34m\u001b[0m\u001b[0m\n\u001b[1;32m     18\u001b[0m     \u001b[0;32mdef\u001b[0m \u001b[0m__call__\u001b[0m\u001b[0;34m(\u001b[0m\u001b[0mself\u001b[0m\u001b[0;34m,\u001b[0m \u001b[0mimg\u001b[0m\u001b[0;34m)\u001b[0m\u001b[0;34m:\u001b[0m\u001b[0;34m\u001b[0m\u001b[0m\n\u001b[0;32m---> 19\u001b[0;31m         \u001b[0mnoisy_img\u001b[0m \u001b[0;34m=\u001b[0m \u001b[0mnp\u001b[0m\u001b[0;34m.\u001b[0m\u001b[0marray\u001b[0m\u001b[0;34m(\u001b[0m\u001b[0mnoisy_img\u001b[0m\u001b[0;34m,\u001b[0m \u001b[0mdtype\u001b[0m\u001b[0;34m=\u001b[0m \u001b[0mnp\u001b[0m\u001b[0;34m.\u001b[0m\u001b[0mfloat\u001b[0m\u001b[0;34m)\u001b[0m \u001b[0;34m+\u001b[0m \u001b[0mself\u001b[0m\u001b[0;34m.\u001b[0m\u001b[0mbias_noise\u001b[0m\u001b[0;34m\u001b[0m\u001b[0m\n\u001b[0m\u001b[1;32m     20\u001b[0m         \u001b[0mrows\u001b[0m\u001b[0;34m,\u001b[0m \u001b[0mcols\u001b[0m\u001b[0;34m,\u001b[0m \u001b[0mchan\u001b[0m \u001b[0;34m=\u001b[0m \u001b[0mnoisy_img\u001b[0m\u001b[0;34m.\u001b[0m\u001b[0mshape\u001b[0m\u001b[0;34m\u001b[0m\u001b[0m\n\u001b[1;32m     21\u001b[0m         \u001b[0mnoisy_img\u001b[0m \u001b[0;34m=\u001b[0m \u001b[0mnoisy_img\u001b[0m\u001b[0;34m.\u001b[0m\u001b[0mreshape\u001b[0m\u001b[0;34m(\u001b[0m\u001b[0;34m(\u001b[0m\u001b[0mcols\u001b[0m\u001b[0;34m,\u001b[0m \u001b[0mrows\u001b[0m\u001b[0;34m,\u001b[0m \u001b[0mchan\u001b[0m\u001b[0;34m)\u001b[0m\u001b[0;34m)\u001b[0m\u001b[0;34m\u001b[0m\u001b[0m\n",
      "\u001b[0;31mUnboundLocalError\u001b[0m: local variable 'noisy_img' referenced before assignment"
     ]
    }
   ],
   "source": [
    "im = maxnorm(image)\n",
    "b(im)"
   ]
  },
  {
   "cell_type": "code",
   "execution_count": 90,
   "metadata": {},
   "outputs": [],
   "source": []
  },
  {
   "cell_type": "code",
   "execution_count": null,
   "metadata": {},
   "outputs": [],
   "source": []
  }
 ],
 "metadata": {
  "kernelspec": {
   "display_name": "Python 3",
   "language": "python",
   "name": "python3"
  },
  "language_info": {
   "codemirror_mode": {
    "name": "ipython",
    "version": 3
   },
   "file_extension": ".py",
   "mimetype": "text/x-python",
   "name": "python",
   "nbconvert_exporter": "python",
   "pygments_lexer": "ipython3",
   "version": "3.6.4"
  }
 },
 "nbformat": 4,
 "nbformat_minor": 2
}
