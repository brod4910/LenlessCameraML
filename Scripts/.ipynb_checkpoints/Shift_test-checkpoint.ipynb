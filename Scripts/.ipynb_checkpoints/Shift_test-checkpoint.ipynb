{
 "cells": [
  {
   "cell_type": "code",
   "execution_count": 1,
   "metadata": {},
   "outputs": [],
   "source": [
    "import cv2\n",
    "import numpy as np\n",
    "from PIL import Image"
   ]
  },
  {
   "cell_type": "code",
   "execution_count": 2,
   "metadata": {},
   "outputs": [],
   "source": [
    "class Shift(object):\n",
    "    def __init__(self, shift):\n",
    "        self.shift = shift\n",
    "\n",
    "    def __call__(self, img):\n",
    "        im = np.array(img, dtype= np.float)\n",
    "        rows, cols, chan = im.shape\n",
    "        shifted_img = cv2.warpAffine(im, self.shift, (cols, rows))\n",
    "        shifted_img = shifted_img.reshape((cols, rows, chan))\n",
    "\n",
    "        return shifted_img"
   ]
  },
  {
   "cell_type": "code",
   "execution_count": 14,
   "metadata": {},
   "outputs": [],
   "source": [
    "class MaxNormalization(object):\n",
    "    def __init__(self, max_val):\n",
    "        self.max = max_val\n",
    "\n",
    "    def __call__(self, img):\n",
    "        norm_img = np.array(img, dtype= np.float) * self.max\n",
    "        rows, cols = norm_img.shape\n",
    "        norm_img = norm_img.reshape((cols, rows, 1))\n",
    "\n",
    "        print(norm_img.shape)\n",
    "\n",
    "        return norm_img\n",
    "    \n",
    "class BiasNoise(object):\n",
    "    def __init__(self, bias_noise):\n",
    "        self.bias_noise = bias_noise\n",
    "\n",
    "    def __call__(self, img):\n",
    "        noisy_img = np.array(img, dtype= np.float) \n",
    "        bias_array = np.full((noisy_img.shape)self.bias_noise)\n",
    "        noisy_img += bias_array\n",
    "        rows, cols, chan = noisy_img.shape\n",
    "        noisy_img = noisy_img.reshape((cols, rows, chan))\n",
    "        noisy_img_clipped = np.clip(noisy_img, 0, 255)  # we might get out of bounds due to noise\n",
    "\n",
    "        return noisy_img_clipped\n",
    "\n",
    "'''\n",
    "Adds Gaussian Noise to the image with mean and std.\n",
    "The bias is added when the object is called\n",
    "'''\n",
    "class GaussianNoise(object):\n",
    "    def __init__(self, std, mean=0):\n",
    "        self.mean = mean\n",
    "        self.std = std\n",
    "\n",
    "    def __call__(self, img):\n",
    "        noisy_img = np.array(img, dtype= np.float)\n",
    "        rows, cols, chan = noisy_img.shape\n",
    "        noisy_img = noisy_img + np.random.normal(self.mean, self.std, noisy_img.shape)\n",
    "        noisy_img = noisy_img.reshape((cols, rows, chan))\n",
    "        noisy_img_clipped = np.clip(noisy_img, 0, 255)  # we might get out of bounds due to noise\n",
    "\n",
    "        return noisy_img_clipped"
   ]
  },
  {
   "cell_type": "code",
   "execution_count": 15,
   "metadata": {},
   "outputs": [],
   "source": [
    "shift = -150\n",
    "translate = Shift(np.float32([[1, 0, shift], [0, 1, 0]]))\n",
    "g = GaussianNoise(5)\n",
    "b = BiasNoise(10)\n",
    "maxnorm = MaxNormalization(0.0038910505836575876)"
   ]
  },
  {
   "cell_type": "code",
   "execution_count": 16,
   "metadata": {},
   "outputs": [],
   "source": [
    "img = './5400.png'\n",
    "image = Image.open(img)\n"
   ]
  },
  {
   "cell_type": "code",
   "execution_count": null,
   "metadata": {},
   "outputs": [],
   "source": []
  },
  {
   "cell_type": "code",
   "execution_count": null,
   "metadata": {},
   "outputs": [],
   "source": []
  },
  {
   "cell_type": "code",
   "execution_count": 17,
   "metadata": {},
   "outputs": [
    {
     "name": "stdout",
     "output_type": "stream",
     "text": [
      "(640, 480, 1)\n",
      "[[[138.15953307]\n",
      "  [138.19844358]\n",
      "  [124.38910506]\n",
      "  ...\n",
      "  [130.85214008]\n",
      "  [101.6848249 ]\n",
      "  [139.24513619]]\n",
      "\n",
      " [[139.61867704]\n",
      "  [137.61478599]\n",
      "  [123.90272374]\n",
      "  ...\n",
      "  [130.47081712]\n",
      "  [134.0233463 ]\n",
      "  [170.62256809]]\n",
      "\n",
      " [[154.11673152]\n",
      "  [142.9688716 ]\n",
      "  [145.38910506]\n",
      "  ...\n",
      "  [  0.        ]\n",
      "  [  0.        ]\n",
      "  [  0.        ]]\n",
      "\n",
      " ...\n",
      "\n",
      " [[171.04280156]\n",
      "  [150.42412451]\n",
      "  [130.23735409]\n",
      "  ...\n",
      "  [173.76653696]\n",
      "  [144.83268482]\n",
      "  [164.09727626]]\n",
      "\n",
      " [[151.85603113]\n",
      "  [127.0311284 ]\n",
      "  [128.692607  ]\n",
      "  ...\n",
      "  [153.44747082]\n",
      "  [112.17120623]\n",
      "  [146.46692607]]\n",
      "\n",
      " [[138.70817121]\n",
      "  [135.96108949]\n",
      "  [140.72373541]\n",
      "  ...\n",
      "  [  0.        ]\n",
      "  [  0.        ]\n",
      "  [  0.        ]]]\n"
     ]
    }
   ],
   "source": [
    "im = maxnorm(image)\n",
    "im = translate(im)\n",
    "print(im)"
   ]
  },
  {
   "cell_type": "code",
   "execution_count": 18,
   "metadata": {},
   "outputs": [
    {
     "name": "stdout",
     "output_type": "stream",
     "text": [
      "(640, 480, 1)\n"
     ]
    },
    {
     "data": {
      "text/plain": [
       "array([[[157.71567198],\n",
       "        [163.5252385 ],\n",
       "        [156.63275159],\n",
       "        ...,\n",
       "        [161.07295887],\n",
       "        [162.386483  ],\n",
       "        [158.42879412]],\n",
       "\n",
       "       [[159.55263605],\n",
       "        [167.23637081],\n",
       "        [162.37674653],\n",
       "        ...,\n",
       "        [157.16335426],\n",
       "        [147.99121168],\n",
       "        [155.44016958]],\n",
       "\n",
       "       [[158.18214433],\n",
       "        [165.45706764],\n",
       "        [154.15254158],\n",
       "        ...,\n",
       "        [156.3616296 ],\n",
       "        [154.2761792 ],\n",
       "        [159.57035618]],\n",
       "\n",
       "       ...,\n",
       "\n",
       "       [[171.51892803],\n",
       "        [164.14441281],\n",
       "        [161.52469839],\n",
       "        ...,\n",
       "        [162.83064651],\n",
       "        [166.54244373],\n",
       "        [175.16429045]],\n",
       "\n",
       "       [[149.23453435],\n",
       "        [153.25281366],\n",
       "        [146.12568365],\n",
       "        ...,\n",
       "        [164.91742266],\n",
       "        [164.71646911],\n",
       "        [164.92210654]],\n",
       "\n",
       "       [[154.47653632],\n",
       "        [153.00447119],\n",
       "        [151.23235029],\n",
       "        ...,\n",
       "        [163.83940489],\n",
       "        [157.25344075],\n",
       "        [162.71825615]]])"
      ]
     },
     "execution_count": 18,
     "metadata": {},
     "output_type": "execute_result"
    }
   ],
   "source": [
    "img = './5400.png'\n",
    "image = Image.open(img)\n",
    "im = maxnorm(image)\n",
    "g(im)"
   ]
  },
  {
   "cell_type": "code",
   "execution_count": 19,
   "metadata": {},
   "outputs": [
    {
     "name": "stdout",
     "output_type": "stream",
     "text": [
      "(640, 480, 1)\n"
     ]
    },
    {
     "ename": "TypeError",
     "evalue": "ufunc 'add' output (typecode 'O') could not be coerced to provided output parameter (typecode 'd') according to the casting rule ''same_kind''",
     "output_type": "error",
     "traceback": [
      "\u001b[0;31m---------------------------------------------------------------------------\u001b[0m",
      "\u001b[0;31mTypeError\u001b[0m                                 Traceback (most recent call last)",
      "\u001b[0;32m<ipython-input-19-4559949ed1cd>\u001b[0m in \u001b[0;36m<module>\u001b[0;34m()\u001b[0m\n\u001b[1;32m      2\u001b[0m \u001b[0mimage\u001b[0m \u001b[0;34m=\u001b[0m \u001b[0mImage\u001b[0m\u001b[0;34m.\u001b[0m\u001b[0mopen\u001b[0m\u001b[0;34m(\u001b[0m\u001b[0mimg\u001b[0m\u001b[0;34m)\u001b[0m\u001b[0;34m\u001b[0m\u001b[0m\n\u001b[1;32m      3\u001b[0m \u001b[0mim\u001b[0m \u001b[0;34m=\u001b[0m \u001b[0mmaxnorm\u001b[0m\u001b[0;34m(\u001b[0m\u001b[0mimage\u001b[0m\u001b[0;34m)\u001b[0m\u001b[0;34m\u001b[0m\u001b[0m\n\u001b[0;32m----> 4\u001b[0;31m \u001b[0mb\u001b[0m\u001b[0;34m(\u001b[0m\u001b[0mim\u001b[0m\u001b[0;34m)\u001b[0m\u001b[0;34m\u001b[0m\u001b[0m\n\u001b[0m",
      "\u001b[0;32m<ipython-input-14-16c10cebb8b5>\u001b[0m in \u001b[0;36m__call__\u001b[0;34m(self, img)\u001b[0m\n\u001b[1;32m     19\u001b[0m         \u001b[0mnoisy_img\u001b[0m \u001b[0;34m=\u001b[0m \u001b[0mnp\u001b[0m\u001b[0;34m.\u001b[0m\u001b[0marray\u001b[0m\u001b[0;34m(\u001b[0m\u001b[0mimg\u001b[0m\u001b[0;34m,\u001b[0m \u001b[0mdtype\u001b[0m\u001b[0;34m=\u001b[0m \u001b[0mnp\u001b[0m\u001b[0;34m.\u001b[0m\u001b[0mfloat\u001b[0m\u001b[0;34m)\u001b[0m\u001b[0;34m\u001b[0m\u001b[0m\n\u001b[1;32m     20\u001b[0m         \u001b[0mbias_array\u001b[0m \u001b[0;34m=\u001b[0m \u001b[0mnp\u001b[0m\u001b[0;34m.\u001b[0m\u001b[0mzeros_like\u001b[0m\u001b[0;34m(\u001b[0m\u001b[0mnoisy_img\u001b[0m\u001b[0;34m)\u001b[0m\u001b[0;34m.\u001b[0m\u001b[0mfill\u001b[0m\u001b[0;34m(\u001b[0m\u001b[0mself\u001b[0m\u001b[0;34m.\u001b[0m\u001b[0mbias_noise\u001b[0m\u001b[0;34m)\u001b[0m\u001b[0;34m\u001b[0m\u001b[0m\n\u001b[0;32m---> 21\u001b[0;31m         \u001b[0mnoisy_img\u001b[0m \u001b[0;34m+=\u001b[0m \u001b[0mbias_array\u001b[0m\u001b[0;34m\u001b[0m\u001b[0m\n\u001b[0m\u001b[1;32m     22\u001b[0m         \u001b[0mrows\u001b[0m\u001b[0;34m,\u001b[0m \u001b[0mcols\u001b[0m\u001b[0;34m,\u001b[0m \u001b[0mchan\u001b[0m \u001b[0;34m=\u001b[0m \u001b[0mnoisy_img\u001b[0m\u001b[0;34m.\u001b[0m\u001b[0mshape\u001b[0m\u001b[0;34m\u001b[0m\u001b[0m\n\u001b[1;32m     23\u001b[0m         \u001b[0mnoisy_img\u001b[0m \u001b[0;34m=\u001b[0m \u001b[0mnoisy_img\u001b[0m\u001b[0;34m.\u001b[0m\u001b[0mreshape\u001b[0m\u001b[0;34m(\u001b[0m\u001b[0;34m(\u001b[0m\u001b[0mcols\u001b[0m\u001b[0;34m,\u001b[0m \u001b[0mrows\u001b[0m\u001b[0;34m,\u001b[0m \u001b[0mchan\u001b[0m\u001b[0;34m)\u001b[0m\u001b[0;34m)\u001b[0m\u001b[0;34m\u001b[0m\u001b[0m\n",
      "\u001b[0;31mTypeError\u001b[0m: ufunc 'add' output (typecode 'O') could not be coerced to provided output parameter (typecode 'd') according to the casting rule ''same_kind''"
     ]
    }
   ],
   "source": [
    "img = './5400.png'\n",
    "image = Image.open(img)\n",
    "im = maxnorm(image)\n",
    "b(im)"
   ]
  },
  {
   "cell_type": "code",
   "execution_count": 90,
   "metadata": {},
   "outputs": [],
   "source": []
  },
  {
   "cell_type": "code",
   "execution_count": null,
   "metadata": {},
   "outputs": [],
   "source": []
  }
 ],
 "metadata": {
  "kernelspec": {
   "display_name": "Python 3",
   "language": "python",
   "name": "python3"
  },
  "language_info": {
   "codemirror_mode": {
    "name": "ipython",
    "version": 3
   },
   "file_extension": ".py",
   "mimetype": "text/x-python",
   "name": "python",
   "nbconvert_exporter": "python",
   "pygments_lexer": "ipython3",
   "version": "3.6.4"
  }
 },
 "nbformat": 4,
 "nbformat_minor": 2
}
