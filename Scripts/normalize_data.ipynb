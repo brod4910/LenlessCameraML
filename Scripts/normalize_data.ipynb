{
 "cells": [
  {
   "cell_type": "code",
   "execution_count": 2,
   "metadata": {},
   "outputs": [],
   "source": [
    "from PIL import Image\n",
    "import numpy as np\n",
    "import pandas as pd\n",
    "import os"
   ]
  },
  {
   "cell_type": "code",
   "execution_count": 47,
   "metadata": {},
   "outputs": [],
   "source": [
    "class RunningStats:\n",
    "\n",
    "    def __init__(self, ratio, resize= (240,240)):\n",
    "        self.n = 0\n",
    "        self.old_m = 0\n",
    "        self.new_m = 0\n",
    "        self.old_s = 0\n",
    "        self.new_s = 0\n",
    "        self.resize = resize\n",
    "        self.ratio = ratio\n",
    "\n",
    "    def clear(self):\n",
    "        self.n = 0\n",
    "\n",
    "    def push(self, x):\n",
    "        self.n += 1\n",
    "        \n",
    "        img = Image.open(x)\n",
    "        img = img.resize(self.resize)\n",
    "        img = np.array(img, dtype=np.float)\n",
    "        image = img * self.ratio\n",
    "        image = image.reshape(self.resize[0] * self.resize[1])\n",
    "#         print(image)\n",
    "\n",
    "        if self.n == 1:\n",
    "            self.old_m = self.new_m = np.mean(image)\n",
    "            self.old_s = 0\n",
    "        else:\n",
    "            self.new_m = self.old_m + (np.mean(image) - self.old_m) / self.n\n",
    "            self.new_s = self.old_s + (np.std(image) - self.old_m) * (np.std(image) - self.new_m)\n",
    "\n",
    "            self.old_m = self.new_m\n",
    "            self.old_s = self.new_s\n",
    "\n",
    "    def mean(self):\n",
    "        return self.new_m if self.n else 0.0\n",
    "\n",
    "    def variance(self):\n",
    "        return self.new_s / (self.n - 1) if self.n > 1 else 0.0\n",
    "\n",
    "    def standard_deviation(self):\n",
    "        return np.sqrt(self.variance())"
   ]
  },
  {
   "cell_type": "code",
   "execution_count": 4,
   "metadata": {},
   "outputs": [],
   "source": [
    "train_csv = '/Users/brianrodriguez/Development/LenlessCameraML/data_csv/kfold_train.csv'\n",
    "test_csv = '/Users/brianrodriguez/Development/LenlessCameraML/data_csv/kfold_test.csv'\n",
    "root_dir = '/Volumes/MyPassport/ML/Deep_Learning/lensless_image_data/'\n",
    "pd_csv = pd.read_csv(train_csv)"
   ]
  },
  {
   "cell_type": "code",
   "execution_count": 30,
   "metadata": {},
   "outputs": [
    {
     "name": "stdout",
     "output_type": "stream",
     "text": [
      "Pandas(Index=0, File='0/0.png', Label=0)\n",
      "Pandas(Index=1, File='0/2.png', Label=0)\n",
      "Pandas(Index=3, File='0/4.png', Label=0)\n",
      "Pandas(Index=5, File='0/7.png', Label=0)\n"
     ]
    },
    {
     "data": {
      "text/plain": [
       "65535"
      ]
     },
     "execution_count": 30,
     "metadata": {},
     "output_type": "execute_result"
    }
   ],
   "source": [
    "new_max = 0\n",
    "resize = (240,240)\n",
    "for i in pd_csv.itertuples():\n",
    "    path = os.path.join(root_dir, i[1])\n",
    "    image = Image.open(path)\n",
    "    image = image.resize(resize)\n",
    "    image = np.asarray(image)\n",
    "    image = image.reshape(resize[0] * resize[1])\n",
    "    im_max = image.max()\n",
    "    if im_max > new_max:\n",
    "        new_max = im_max\n",
    "        print(i)\n",
    "new_max"
   ]
  },
  {
   "cell_type": "code",
   "execution_count": 54,
   "metadata": {},
   "outputs": [
    {
     "data": {
      "text/plain": [
       "65535"
      ]
     },
     "execution_count": 54,
     "metadata": {},
     "output_type": "execute_result"
    }
   ],
   "source": [
    "pd_csv = pd.read_csv(test_csv)\n",
    "for i in pd_csv.itertuples():\n",
    "    path = os.path.join(root_dir, i[1])\n",
    "    image = Image.open(path)\n",
    "    image = image.resize(resize)\n",
    "    image = np.asarray(image)\n",
    "    image = image.reshape(resize[0] * resize[1])\n",
    "    im_max = image.max()\n",
    "    if im_max > new_max:\n",
    "        new_max = im_max\n",
    "        print(i)\n",
    "new_max"
   ]
  },
  {
   "cell_type": "code",
   "execution_count": 56,
   "metadata": {},
   "outputs": [
    {
     "data": {
      "text/plain": [
       "10800"
      ]
     },
     "execution_count": 56,
     "metadata": {},
     "output_type": "execute_result"
    }
   ],
   "source": [
    "len(pd_csv)"
   ]
  },
  {
   "cell_type": "code",
   "execution_count": 55,
   "metadata": {},
   "outputs": [
    {
     "data": {
      "text/plain": [
       "0.0038910505836575876"
      ]
     },
     "execution_count": 55,
     "metadata": {},
     "output_type": "execute_result"
    }
   ],
   "source": [
    "ratio = 255/new_max\n",
    "ratio"
   ]
  },
  {
   "cell_type": "code",
   "execution_count": 48,
   "metadata": {},
   "outputs": [],
   "source": [
    "rs = RunningStats(ratio)"
   ]
  },
  {
   "cell_type": "code",
   "execution_count": 57,
   "metadata": {},
   "outputs": [],
   "source": [
    "for i in pd_csv.itertuples():\n",
    "    path = os.path.join(root_dir, i[1])\n",
    "    rs.push(path)\n"
   ]
  },
  {
   "cell_type": "code",
   "execution_count": 58,
   "metadata": {},
   "outputs": [
    {
     "name": "stdout",
     "output_type": "stream",
     "text": [
      "139.86624980553643\n",
      "157.1148628732102\n"
     ]
    }
   ],
   "source": [
    "print(rs.standard_deviation())\n",
    "print(rs.mean())"
   ]
  },
  {
   "cell_type": "code",
   "execution_count": 1,
   "metadata": {},
   "outputs": [],
   "source": [
    "class MaxNormalization(object):\n",
    "    def __init__(self, max_val):\n",
    "        self.max = max_val\n",
    "\n",
    "    def __call__(self, img):\n",
    "        norm_img = np.array(img, dtype= np.float) * self.max\n",
    "        rows, cols = norm_img.shape\n",
    "        norm_img = norm_img.reshape((cols, rows, 1))\n",
    "        \n",
    "        return norm_img"
   ]
  },
  {
   "cell_type": "code",
   "execution_count": 3,
   "metadata": {},
   "outputs": [],
   "source": [
    "maxnorm = MaxNormalization(0.0038910505836575876)"
   ]
  },
  {
   "cell_type": "code",
   "execution_count": 5,
   "metadata": {},
   "outputs": [],
   "source": [
    "path = os.path.join(root_dir, '0/7.png')\n",
    "image = Image.open(path)"
   ]
  },
  {
   "cell_type": "code",
   "execution_count": 8,
   "metadata": {},
   "outputs": [
    {
     "data": {
      "text/plain": [
       "255.0"
      ]
     },
     "execution_count": 8,
     "metadata": {},
     "output_type": "execute_result"
    }
   ],
   "source": [
    "maxnorm(image).max()"
   ]
  },
  {
   "cell_type": "code",
   "execution_count": null,
   "metadata": {},
   "outputs": [],
   "source": []
  }
 ],
 "metadata": {
  "kernelspec": {
   "display_name": "Python 3",
   "language": "python",
   "name": "python3"
  },
  "language_info": {
   "codemirror_mode": {
    "name": "ipython",
    "version": 3
   },
   "file_extension": ".py",
   "mimetype": "text/x-python",
   "name": "python",
   "nbconvert_exporter": "python",
   "pygments_lexer": "ipython3",
   "version": "3.6.4"
  }
 },
 "nbformat": 4,
 "nbformat_minor": 2
}
